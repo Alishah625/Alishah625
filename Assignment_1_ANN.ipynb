{
  "nbformat": 4,
  "nbformat_minor": 0,
  "metadata": {
    "colab": {
      "provenance": [],
      "toc_visible": true,
      "authorship_tag": "ABX9TyMG6xsaSvo5hbAYy5SFjM8o",
      "include_colab_link": true
    },
    "kernelspec": {
      "name": "python3",
      "display_name": "Python 3"
    },
    "language_info": {
      "name": "python"
    }
  },
  "cells": [
    {
      "cell_type": "markdown",
      "metadata": {
        "id": "view-in-github",
        "colab_type": "text"
      },
      "source": [
        "<a href=\"https://colab.research.google.com/github/Alishah625/Alishah625/blob/main/Assignment_1_ANN.ipynb\" target=\"_parent\"><img src=\"https://colab.research.google.com/assets/colab-badge.svg\" alt=\"Open In Colab\"/></a>"
      ]
    },
    {
      "cell_type": "markdown",
      "source": [
        "**Inputs and ouputs**"
      ],
      "metadata": {
        "id": "0ieDcCpWwilw"
      }
    },
    {
      "cell_type": "code",
      "source": [
        "import torch\n",
        "\n",
        "# Define the input tensor and the target tensor\n",
        "x1 = torch.tensor([0.05])\n",
        "x2 = torch.tensor([0.10])\n",
        "t1 = torch.tensor([0.01])\n",
        "t2 = torch.tensor([0.99])\n",
        "print(\"First input :\",x1)\n",
        "print(\"second input :\",x2)\n",
        "print(\"first output :\",t1)\n",
        "print(\"second output :\",t2)"
      ],
      "metadata": {
        "colab": {
          "base_uri": "https://localhost:8080/"
        },
        "id": "P54R2TAVyU_g",
        "outputId": "4c0b1cbb-27c6-4c02-d9f5-95ec465f929a"
      },
      "execution_count": null,
      "outputs": [
        {
          "output_type": "stream",
          "name": "stdout",
          "text": [
            "First input : tensor([0.0500])\n",
            "second input : tensor([0.1000])\n",
            "first output : tensor([0.0100])\n",
            "second output : tensor([0.9900])\n"
          ]
        }
      ]
    },
    {
      "cell_type": "markdown",
      "source": [
        "Weights and Biases"
      ],
      "metadata": {
        "id": "cEq01dBdwepe"
      }
    },
    {
      "cell_type": "code",
      "source": [
        "w1 = torch.tensor([0.15], requires_grad=True)\n",
        "w2 = torch.tensor([0.20], requires_grad=True)\n",
        "w3 = torch.tensor([0.25], requires_grad=True)\n",
        "w4 = torch.tensor([0.30], requires_grad=True)\n",
        "w5 = torch.tensor([0.40], requires_grad=True)\n",
        "w6 = torch.tensor([0.45], requires_grad=True)\n",
        "w7 = torch.tensor([0.50], requires_grad=True)\n",
        "w8 = torch.tensor([0.55], requires_grad=True)\n",
        "b1 = torch.tensor([0.35], requires_grad=True)\n",
        "b2 = torch.tensor([0.60], requires_grad=True)"
      ],
      "metadata": {
        "id": "8PelDkfG0ifS"
      },
      "execution_count": null,
      "outputs": []
    },
    {
      "cell_type": "markdown",
      "source": [],
      "metadata": {
        "id": "Ezwk5oQL9k28"
      }
    },
    {
      "cell_type": "markdown",
      "source": [
        "Forward pass\n",
        "Hidden Layers"
      ],
      "metadata": {
        "id": "7QaGoE0s5gn8"
      }
    },
    {
      "cell_type": "code",
      "source": [
        "H1=x1*w1+x2*w2+b1\n",
        "print(H1)\n",
        "sigmoid = torch.nn.Sigmoid()\n",
        "# Apply the sigmoid function to the input tensor\n",
        "H1 = sigmoid(H1)\n",
        "# Print the output\n",
        "print(\"Hidden layer H1 :\",H1)\n",
        "H2=x1*w3+x2*w4+b1\n",
        "print(H2)\n",
        "sigmoid = torch.nn.Sigmoid()\n",
        "# Apply the sigmoid function to the input tensor\n",
        "H2 = sigmoid(H2)\n",
        "# Print the output\n",
        "print(\"Hidden layer H2 :\",H2)"
      ],
      "metadata": {
        "colab": {
          "base_uri": "https://localhost:8080/"
        },
        "id": "fn6rgzbL8hVH",
        "outputId": "dde68802-34aa-44ae-b184-aab9a8e30895"
      },
      "execution_count": null,
      "outputs": [
        {
          "output_type": "stream",
          "name": "stdout",
          "text": [
            "tensor([0.3775], grad_fn=<AddBackward0>)\n",
            "Hidden layer H1 : tensor([0.5933], grad_fn=<SigmoidBackward0>)\n",
            "tensor([0.3925], grad_fn=<AddBackward0>)\n",
            "Hidden layer H2 : tensor([0.5969], grad_fn=<SigmoidBackward0>)\n"
          ]
        }
      ]
    },
    {
      "cell_type": "markdown",
      "source": [
        "Forward pass\n",
        "Output layers"
      ],
      "metadata": {
        "id": "I9T3NGWV9xex"
      }
    },
    {
      "cell_type": "code",
      "source": [
        "y1=H1*w5 + H2*w6+ b2\n",
        "print(y1)\n",
        "sigmoid = torch.nn.Sigmoid()\n",
        "# Apply the sigmoid function to the input tensor\n",
        "y1 = sigmoid(y1)\n",
        "# Print the output\n",
        "print(\"First observed output:\",y1)\n",
        "y2=H1*w7 + H2*w8+ b2\n",
        "print(y2)\n",
        "sigmoid = torch.nn.Sigmoid()\n",
        "# Apply the sigmoid function to the input tensor\n",
        "y2 = sigmoid(y2)\n",
        "# Print the output\n",
        "print(\"First observed output:\", y2)"
      ],
      "metadata": {
        "colab": {
          "base_uri": "https://localhost:8080/"
        },
        "id": "nUoPfQ4JhWB8",
        "outputId": "ae66cb30-041c-4e37-d6ce-759c365a6463"
      },
      "execution_count": null,
      "outputs": [
        {
          "output_type": "stream",
          "name": "stdout",
          "text": [
            "tensor([1.1059], grad_fn=<AddBackward0>)\n",
            "First observed output: tensor([0.7514], grad_fn=<SigmoidBackward0>)\n",
            "tensor([1.2249], grad_fn=<AddBackward0>)\n",
            "First observed output: tensor([0.7729], grad_fn=<SigmoidBackward0>)\n"
          ]
        }
      ]
    },
    {
      "cell_type": "markdown",
      "source": [
        "TOTAL Error"
      ],
      "metadata": {
        "id": "4wxOXQBV5mhn"
      }
    },
    {
      "cell_type": "code",
      "source": [
        "loss= (t1-y1)**2/2.0 + (t2-y2)**2/2.0\n",
        "print(\"Total error :\",loss)"
      ],
      "metadata": {
        "id": "11th2ZJ9ifIq",
        "colab": {
          "base_uri": "https://localhost:8080/"
        },
        "outputId": "d1f5f1b6-801d-4637-fd55-fc03598e0101"
      },
      "execution_count": null,
      "outputs": [
        {
          "output_type": "stream",
          "name": "stdout",
          "text": [
            "Total error : tensor([0.2984], grad_fn=<AddBackward0>)\n"
          ]
        }
      ]
    },
    {
      "cell_type": "markdown",
      "source": [
        "Backpropagation"
      ],
      "metadata": {
        "id": "Gq5sN1nn5qb2"
      }
    },
    {
      "cell_type": "code",
      "source": [
        "#ompute gradients\n",
        "loss.backward()\n",
        "print(w1,w2,w3,w4)\n",
        "print(w5,w6,w7,w8)\n",
        "print(w1.grad,w2.grad,w3.grad,w4.grad)\n",
        "print(w5.grad,w6.grad,w7.grad,w8.grad)\n",
        "print(b1,b2)\n",
        "print(b1.grad,b2.grad)"
      ],
      "metadata": {
        "colab": {
          "base_uri": "https://localhost:8080/"
        },
        "id": "EY2bpCEPwGpQ",
        "outputId": "9de020d0-4b92-4f7d-d52f-86c731a7e1e4"
      },
      "execution_count": null,
      "outputs": [
        {
          "output_type": "stream",
          "name": "stdout",
          "text": [
            "tensor([0.1500], requires_grad=True) tensor([0.2000], requires_grad=True) tensor([0.2500], requires_grad=True) tensor([0.3000], requires_grad=True)\n",
            "tensor([0.4000], requires_grad=True) tensor([0.4500], requires_grad=True) tensor([0.5000], requires_grad=True) tensor([0.5500], requires_grad=True)\n",
            "tensor([0.0004]) tensor([0.0009]) tensor([0.0005]) tensor([0.0010])\n",
            "tensor([0.0822]) tensor([0.0827]) tensor([-0.0226]) tensor([-0.0227])\n",
            "tensor([0.3500], requires_grad=True) tensor([0.6000], requires_grad=True)\n",
            "tensor([0.0187]) tensor([0.1004])\n"
          ]
        }
      ]
    },
    {
      "cell_type": "markdown",
      "source": [
        "Updated Weights"
      ],
      "metadata": {
        "id": "4FmLbkauCB2B"
      }
    },
    {
      "cell_type": "code",
      "source": [
        "wu1= w1- w1.grad * 0.5\n",
        "print(\"Updated weight 1:\", wu1)\n",
        "wu2= w2- w2.grad * 0.5\n",
        "print(\"Updated weight 2:\", w2)\n",
        "wu3= w3- w3.grad * 0.5\n",
        "print(\"Updated weight 3:\", wu3)\n",
        "wu4= w4- w4.grad * 0.5\n",
        "print(\"Updated weight 4:\", wu4)\n",
        "wu5 = w5- w5.grad * 0.5\n",
        "print(\"Updated weight 5:\", wu5)\n",
        "wu6 = w6- w6.grad * 0.5\n",
        "print(\"Updated weight 6:\", wu6)\n",
        "wu7 = w7- w7.grad * 0.5\n",
        "print(\"Updated weight 7:\", wu7)\n",
        "wu8 = w8- w8.grad * 0.5\n",
        "print(\"Updated weight 8:\", wu8)\n"
      ],
      "metadata": {
        "colab": {
          "base_uri": "https://localhost:8080/"
        },
        "id": "ti8IVB1Au2_b",
        "outputId": "397af28f-e447-44f6-cf3a-db8afb0acba1"
      },
      "execution_count": null,
      "outputs": [
        {
          "output_type": "stream",
          "name": "stdout",
          "text": [
            "Updated weight: tensor([0.1498], grad_fn=<SubBackward0>)\n",
            "Updated weight: tensor([0.2000], requires_grad=True)\n",
            "Updated weight: tensor([0.2498], grad_fn=<SubBackward0>)\n",
            "Updated weight: tensor([0.2995], grad_fn=<SubBackward0>)\n",
            "Updated weight: tensor([0.3589], grad_fn=<SubBackward0>)\n",
            "Updated weight: tensor([0.4087], grad_fn=<SubBackward0>)\n",
            "Updated weight: tensor([0.5113], grad_fn=<SubBackward0>)\n",
            "Updated weight: tensor([0.5614], grad_fn=<SubBackward0>)\n"
          ]
        }
      ]
    },
    {
      "cell_type": "markdown",
      "source": [
        "Forward pass with updated weights\n",
        "Hidden layer outputs"
      ],
      "metadata": {
        "id": "ihaRjrAj6J4i"
      }
    },
    {
      "cell_type": "code",
      "source": [
        "Hu1=x1*wu1+x2*wu2+b1.grad\n",
        "print(Hu1)\n",
        "sigmoid = torch.nn.Sigmoid()\n",
        "# Apply the sigmoid function to the input tensor\n",
        "Hu1 = sigmoid(Hu1)\n",
        "# Print the output\n",
        "print(\"Hidden layer Hu1 :\",Hu1)\n",
        "Hu2=x1*wu3+x2*wu4+b1.grad\n",
        "print(Hu2)\n",
        "sigmoid = torch.nn.Sigmoid()\n",
        "# Apply the sigmoid function to the input tensor\n",
        "Hu2 = sigmoid(Hu2)\n",
        "# Print the output\n",
        "print(\"Hidden layer Hu2 :\",Hu2)\n"
      ],
      "metadata": {
        "colab": {
          "base_uri": "https://localhost:8080/"
        },
        "id": "h5DYFuDn6Uub",
        "outputId": "3476233c-4bcb-4c69-e06c-132efa85b06e"
      },
      "execution_count": null,
      "outputs": [
        {
          "output_type": "stream",
          "name": "stdout",
          "text": [
            "tensor([0.0462], grad_fn=<AddBackward0>)\n",
            "Hidden layer Hu1 : tensor([0.5115], grad_fn=<SigmoidBackward0>)\n",
            "tensor([0.0612], grad_fn=<AddBackward0>)\n",
            "Hidden layer Hu2 : tensor([0.5153], grad_fn=<SigmoidBackward0>)\n"
          ]
        }
      ]
    },
    {
      "cell_type": "markdown",
      "source": [
        "Output layer\n",
        "with updated wights"
      ],
      "metadata": {
        "id": "VqupLP3pDG8l"
      }
    },
    {
      "cell_type": "code",
      "source": [
        "yu1=Hu1*wu5 + Hu2*wu6+ b2.grad\n",
        "print(y1)\n",
        "sigmoid = torch.nn.Sigmoid()\n",
        "# Apply the sigmoid function to the input tensor\n",
        "yu1 = sigmoid(yu1)\n",
        "# Print the output\n",
        "print(\"output  layer yu1 :\",yu1)\n",
        "yu2=Hu1*wu7 + Hu2*wu8+ b2.grad\n",
        "print(y1)\n",
        "sigmoid = torch.nn.Sigmoid()\n",
        "# Apply the sigmoid function to the input tensor\n",
        "yu2 = sigmoid(yu2)\n",
        "# Print the output\n",
        "print(\"output  layer yu1 :\",yu2)"
      ],
      "metadata": {
        "colab": {
          "base_uri": "https://localhost:8080/"
        },
        "id": "o1SO8_xC65VC",
        "outputId": "91036050-111b-4573-e268-3856c256b3e8"
      },
      "execution_count": null,
      "outputs": [
        {
          "output_type": "stream",
          "name": "stdout",
          "text": [
            "tensor([0.7514], grad_fn=<SigmoidBackward0>)\n",
            "output  layer yu1 : tensor([0.6212], grad_fn=<SigmoidBackward0>)\n",
            "tensor([0.7514], grad_fn=<SigmoidBackward0>)\n",
            "output  layer yu1 : tensor([0.6573], grad_fn=<SigmoidBackward0>)\n"
          ]
        }
      ]
    },
    {
      "cell_type": "markdown",
      "source": [
        "Total Error\n",
        " with updated weights"
      ],
      "metadata": {
        "id": "BjkDOo9s8Njf"
      }
    },
    {
      "cell_type": "code",
      "source": [
        "loss_u= (t1-yu1)**2/2.0 + (t2-yu2)**2/2.0\n",
        "print(\"Total error :\",loss_u)"
      ],
      "metadata": {
        "colab": {
          "base_uri": "https://localhost:8080/"
        },
        "id": "fxS8b-ZV8NGW",
        "outputId": "3f1a2934-3697-4d13-dd5b-eb21794066b4"
      },
      "execution_count": null,
      "outputs": [
        {
          "output_type": "stream",
          "name": "stdout",
          "text": [
            "Total error : tensor([0.2421], grad_fn=<AddBackward0>)\n"
          ]
        }
      ]
    },
    {
      "cell_type": "markdown",
      "source": [],
      "metadata": {
        "id": "sdUaal8DDkzo"
      }
    }
  ]
}