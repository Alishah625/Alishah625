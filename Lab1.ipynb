{
  "nbformat": 4,
  "nbformat_minor": 0,
  "metadata": {
    "colab": {
      "provenance": [],
      "toc_visible": true,
      "mount_file_id": "1qdMhuMWrkkxT3Phdwm1AfHThZGvgh87I",
      "authorship_tag": "ABX9TyMgVKlpScySHimcvxSdBWY2",
      "include_colab_link": true
    },
    "kernelspec": {
      "name": "python3",
      "display_name": "Python 3"
    },
    "language_info": {
      "name": "python"
    }
  },
  "cells": [
    {
      "cell_type": "markdown",
      "metadata": {
        "id": "view-in-github",
        "colab_type": "text"
      },
      "source": [
        "<a href=\"https://colab.research.google.com/github/Alishah625/Alishah625/blob/main/Lab1.ipynb\" target=\"_parent\"><img src=\"https://colab.research.google.com/assets/colab-badge.svg\" alt=\"Open In Colab\"/></a>"
      ]
    },
    {
      "cell_type": "markdown",
      "source": [
        "https://www.kaggle.com/code/aakashns/pytorch-basics-linear-regression-from-scratch"
      ],
      "metadata": {
        "id": "e7qSA-z1RqQj"
      }
    },
    {
      "cell_type": "code",
      "execution_count": null,
      "metadata": {
        "colab": {
          "base_uri": "https://localhost:8080/"
        },
        "id": "FLOy9V26xHPI",
        "outputId": "958219e7-3d9d-46cb-a075-6c92758e56d0"
      },
      "outputs": [
        {
          "output_type": "stream",
          "name": "stdout",
          "text": [
            "[0, 1, 2, 2, 4, 5, 6, 7, 8, 8]\n"
          ]
        }
      ],
      "source": [
        "import torch\n",
        "x = [0,1,2,2,4,5,6,7,8,8]\n",
        "print(x)"
      ]
    },
    {
      "cell_type": "code",
      "source": [
        "print (x[4])\n"
      ],
      "metadata": {
        "colab": {
          "base_uri": "https://localhost:8080/"
        },
        "id": "x542Wj5kyNi8",
        "outputId": "ef8f49ca-29c9-4d2d-9a72-436967edf340"
      },
      "execution_count": null,
      "outputs": [
        {
          "output_type": "stream",
          "name": "stdout",
          "text": [
            "4\n"
          ]
        }
      ]
    },
    {
      "cell_type": "code",
      "source": [
        "import torch\n",
        "import numpy as np"
      ],
      "metadata": {
        "id": "qtZGn3JLzRL6"
      },
      "execution_count": null,
      "outputs": []
    },
    {
      "cell_type": "code",
      "source": [
        "data = [[1, 2], [3, 4]]\n",
        "x_data = torch.tensor(data)"
      ],
      "metadata": {
        "id": "cIq0l1xUzWjA"
      },
      "execution_count": null,
      "outputs": []
    },
    {
      "cell_type": "code",
      "source": [
        "\n",
        "x = torch.tensor(3.0)\n",
        "w = torch.tensor(4.0, requires_grad = True)\n",
        "b= torch.tensor(3.0, requires_grad = True)\n",
        "y = w*x +b\n",
        "y1=w1*y\n",
        "print(\"Result of the equation is: \", y)\n",
        "y.backward()\n",
        "print(\"Derivative of the equation at x = 3 is: \", x.grad)\n",
        "print(\"Derivative of the equation at w = 3 is: \", w.grad)\n",
        "print(\"Derivative of the equation at b = 3 is: \", b.grad)"
      ],
      "metadata": {
        "colab": {
          "base_uri": "https://localhost:8080/"
        },
        "id": "dZffWVdE3VHh",
        "outputId": "9b8cadd4-2f19-4f2c-9955-72e35f34e7b1"
      },
      "execution_count": null,
      "outputs": [
        {
          "output_type": "stream",
          "name": "stdout",
          "text": [
            "Result of the equation is:  tensor(15., grad_fn=<AddBackward0>)\n",
            "Derivative of the equation at x = 3 is:  None\n",
            "Derivative of the equation at w = 3 is:  tensor(3.)\n",
            "Derivative of the equation at b = 3 is:  tensor(1.)\n"
          ]
        }
      ]
    },
    {
      "cell_type": "code",
      "source": [
        "w = torch.rand(2, 3)\n",
        "x = torch.rand(2, 3)\n",
        "b=1\n"
      ],
      "metadata": {
        "id": "pRqSQ2iQ0tUa"
      },
      "execution_count": null,
      "outputs": []
    },
    {
      "cell_type": "code",
      "source": [
        "y=w*x + b"
      ],
      "metadata": {
        "id": "UbXt_JiK2chW"
      },
      "execution_count": null,
      "outputs": []
    },
    {
      "cell_type": "code",
      "source": [
        "import torch\n",
        "e=2.718\n",
        "a = torch.tensor(4.0, requires_grad = True)\n",
        "B= 1/(1+torch.exp(-a))\n",
        "print(B)"
      ],
      "metadata": {
        "colab": {
          "base_uri": "https://localhost:8080/"
        },
        "id": "1NbomoAlHFY0",
        "outputId": "8a0beaf8-38e9-499d-81e1-a493434de738"
      },
      "execution_count": null,
      "outputs": [
        {
          "output_type": "stream",
          "name": "stdout",
          "text": [
            "tensor(0.9820, grad_fn=<MulBackward0>)\n"
          ]
        }
      ]
    },
    {
      "cell_type": "code",
      "source": [
        "B.backward()"
      ],
      "metadata": {
        "id": "Owl2AT-cHq86"
      },
      "execution_count": null,
      "outputs": []
    },
    {
      "cell_type": "code",
      "source": [
        "print('da/dB :', a.grad)"
      ],
      "metadata": {
        "colab": {
          "base_uri": "https://localhost:8080/"
        },
        "id": "qRFlKR5TIMNi",
        "outputId": "a789e8b0-9c7a-4b6d-ef44-1daf965f46d0"
      },
      "execution_count": null,
      "outputs": [
        {
          "output_type": "stream",
          "name": "stdout",
          "text": [
            "da/dB : tensor(0.0177)\n"
          ]
        }
      ]
    },
    {
      "cell_type": "code",
      "source": [
        "\n",
        "a = torch.tensor(0.0, requires_grad = True)\n",
        "d=1/(torch.sin(a))\n",
        "print(d)"
      ],
      "metadata": {
        "colab": {
          "base_uri": "https://localhost:8080/"
        },
        "id": "dHYYIiueJViq",
        "outputId": "84efe25c-3db2-48e7-a891-008f3a0e5603"
      },
      "execution_count": null,
      "outputs": [
        {
          "output_type": "stream",
          "name": "stdout",
          "text": [
            "tensor(inf, grad_fn=<MulBackward0>)\n"
          ]
        }
      ]
    },
    {
      "cell_type": "code",
      "source": [
        "d.backward()"
      ],
      "metadata": {
        "id": "BR7s_tQeKbnu"
      },
      "execution_count": null,
      "outputs": []
    },
    {
      "cell_type": "code",
      "source": [
        "d.grad"
      ],
      "metadata": {
        "colab": {
          "base_uri": "https://localhost:8080/"
        },
        "id": "zoGMF6SaKe3u",
        "outputId": "f379ea9a-792a-4087-b093-958e56308682"
      },
      "execution_count": null,
      "outputs": [
        {
          "output_type": "stream",
          "name": "stderr",
          "text": [
            "<ipython-input-26-e81247674995>:1: UserWarning: The .grad attribute of a Tensor that is not a leaf Tensor is being accessed. Its .grad attribute won't be populated during autograd.backward(). If you indeed want the .grad field to be populated for a non-leaf Tensor, use .retain_grad() on the non-leaf Tensor. If you access the non-leaf Tensor by mistake, make sure you access the leaf Tensor instead. See github.com/pytorch/pytorch/pull/30531 for more informations. (Triggered internally at aten/src/ATen/core/TensorBody.h:480.)\n",
            "  d.grad\n"
          ]
        }
      ]
    },
    {
      "cell_type": "code",
      "source": [
        "\n",
        "import torch\n",
        "inputs = np.array([[73, 67, 43],\n",
        "                   [91, 88, 64],\n",
        "                   [87, 134, 58],\n",
        "                   [102, 43, 37],\n",
        "                   [69, 96, 70]], dtype='float32')\n"
      ],
      "metadata": {
        "id": "oJhMbjYDJmUX"
      },
      "execution_count": null,
      "outputs": []
    },
    {
      "cell_type": "code",
      "source": [
        "targets = np.array([[56, 70],\n",
        "                    [81, 101],\n",
        "                    [119, 133],\n",
        "                    [22, 37],\n",
        "                    [103, 119]], dtype='float32')"
      ],
      "metadata": {
        "id": "CbVaEH3mPJob"
      },
      "execution_count": null,
      "outputs": []
    },
    {
      "cell_type": "code",
      "source": [
        "# Convert inputs and targets to tensors\n",
        "inputs = torch.from_numpy(inputs)\n",
        "targets = torch.from_numpy(targets)\n",
        "print(inputs)\n",
        "print(targets)"
      ],
      "metadata": {
        "colab": {
          "base_uri": "https://localhost:8080/"
        },
        "id": "hVbD6rlvX2cs",
        "outputId": "595965f5-3582-4809-f07b-3503088d57ac"
      },
      "execution_count": null,
      "outputs": [
        {
          "output_type": "stream",
          "name": "stdout",
          "text": [
            "tensor([[ 73.,  67.,  43.],\n",
            "        [ 91.,  88.,  64.],\n",
            "        [ 87., 134.,  58.],\n",
            "        [102.,  43.,  37.],\n",
            "        [ 69.,  96.,  70.]])\n",
            "tensor([[ 56.,  70.],\n",
            "        [ 81., 101.],\n",
            "        [119., 133.],\n",
            "        [ 22.,  37.],\n",
            "        [103., 119.]])\n"
          ]
        }
      ]
    },
    {
      "cell_type": "code",
      "source": [
        "w = torch.randn(2, 3, requires_grad=True)\n",
        "b = torch.randn(2, requires_grad=True)\n",
        "print(w)\n",
        "print(b)"
      ],
      "metadata": {
        "colab": {
          "base_uri": "https://localhost:8080/"
        },
        "id": "Qm0fWA9DQmz_",
        "outputId": "00a8ea3c-a947-4f1d-98b8-c6875c453e9a"
      },
      "execution_count": null,
      "outputs": [
        {
          "output_type": "stream",
          "name": "stdout",
          "text": [
            "tensor([[ 0.5663, -0.0797,  0.8203],\n",
            "        [-0.8827,  0.1315,  0.8235]], requires_grad=True)\n",
            "tensor([-0.5402,  0.5691], requires_grad=True)\n"
          ]
        }
      ]
    },
    {
      "cell_type": "code",
      "source": [
        "# Define the model\n",
        "def model(x):\n",
        "    return x @ w.t() + b\n",
        ""
      ],
      "metadata": {
        "id": "iVjwKte5RmG7"
      },
      "execution_count": null,
      "outputs": []
    },
    {
      "cell_type": "code",
      "source": [
        "p = model(inputs)\n",
        "print(p)"
      ],
      "metadata": {
        "colab": {
          "base_uri": "https://localhost:8080/"
        },
        "id": "JrV3esp1VRC5",
        "outputId": "65a44508-51d8-4dd6-972c-0a7f0201d046"
      },
      "execution_count": null,
      "outputs": [
        {
          "output_type": "stream",
          "name": "stdout",
          "text": [
            "tensor([[ 70.7309, -19.6488],\n",
            "        [ 96.4761, -15.4832],\n",
            "        [ 85.6209, -10.8460],\n",
            "        [ 84.1463, -53.3425],\n",
            "        [ 88.3008,   9.9283]], grad_fn=<AddBackward0>)\n"
          ]
        }
      ]
    },
    {
      "cell_type": "code",
      "source": [
        "print(targets)"
      ],
      "metadata": {
        "colab": {
          "base_uri": "https://localhost:8080/"
        },
        "id": "Y-jY59H_YeNq",
        "outputId": "7fc23e98-34a8-4b49-aea6-da9291abe3a4"
      },
      "execution_count": null,
      "outputs": [
        {
          "output_type": "stream",
          "name": "stdout",
          "text": [
            "tensor([[ 56.,  70.],\n",
            "        [ 81., 101.],\n",
            "        [119., 133.],\n",
            "        [ 22.,  37.],\n",
            "        [103., 119.]])\n"
          ]
        }
      ]
    },
    {
      "cell_type": "code",
      "source": [
        "def mse(t1, t2):\n",
        "    diff = t1 - t2\n",
        "    diff2= t3-t4\n",
        "    return torch.sum(diff * diff)+(diff2*diff2) / diff.numel()"
      ],
      "metadata": {
        "id": "rMJzzf_sW1ez"
      },
      "execution_count": null,
      "outputs": []
    },
    {
      "cell_type": "code",
      "source": [
        "loss = mse(p, targets)\n",
        "print(loss)"
      ],
      "metadata": {
        "colab": {
          "base_uri": "https://localhost:8080/"
        },
        "id": "SHPEKRtBW7nh",
        "outputId": "d7e9761a-dfa3-4221-83e2-9c1f4e9c1ef2"
      },
      "execution_count": null,
      "outputs": [
        {
          "output_type": "stream",
          "name": "stdout",
          "text": [
            "tensor(6800.4243, grad_fn=<DivBackward0>)\n"
          ]
        }
      ]
    },
    {
      "cell_type": "code",
      "source": [
        " #ompute gradients\n",
        "loss.backward()\n",
        "\n"
      ],
      "metadata": {
        "id": "eQ_rOav4ZYD3"
      },
      "execution_count": null,
      "outputs": []
    },
    {
      "cell_type": "code",
      "source": [
        "print(w)\n",
        "print(w.grad)"
      ],
      "metadata": {
        "colab": {
          "base_uri": "https://localhost:8080/"
        },
        "id": "yW06CLptZfPy",
        "outputId": "a56f35f7-3309-4435-e01f-e35afa52bd75"
      },
      "execution_count": null,
      "outputs": [
        {
          "output_type": "stream",
          "name": "stdout",
          "text": [
            "tensor([[ 0.5663, -0.0797,  0.8203],\n",
            "        [-0.8827,  0.1315,  0.8235]], requires_grad=True)\n",
            "tensor([[  980.8732,  -172.5555,   191.6744],\n",
            "        [-9279.9648, -9977.5947, -6126.1172]])\n"
          ]
        }
      ]
    },
    {
      "cell_type": "code",
      "source": [
        "print(b)\n",
        "print(b.grad)"
      ],
      "metadata": {
        "colab": {
          "base_uri": "https://localhost:8080/"
        },
        "id": "1BuvAXPQZj3a",
        "outputId": "ab6e1be4-a7b3-419f-8bb0-5c1f3fe6cb48"
      },
      "execution_count": null,
      "outputs": [
        {
          "output_type": "stream",
          "name": "stdout",
          "text": [
            "tensor([-0.5402,  0.5691], requires_grad=True)\n",
            "tensor([   8.8550, -109.8785])\n"
          ]
        }
      ]
    },
    {
      "cell_type": "code",
      "source": [
        "w.grad.zero_()\n",
        "b.grad.zero_()\n",
        "print(w.grad)\n",
        "print(b.grad)"
      ],
      "metadata": {
        "colab": {
          "base_uri": "https://localhost:8080/"
        },
        "id": "5tmJdWbuae7z",
        "outputId": "89fd97fa-bda3-41ef-d30f-dd5259e5f0d4"
      },
      "execution_count": null,
      "outputs": [
        {
          "output_type": "stream",
          "name": "stdout",
          "text": [
            "tensor([[0., 0., 0.],\n",
            "        [0., 0., 0.]])\n",
            "tensor([0., 0.])\n"
          ]
        }
      ]
    },
    {
      "cell_type": "code",
      "source": [
        "with torch.no_grad():\n",
        "    w -= w.grad * 1e-5\n",
        "    b -= b.grad * 1e-5\n",
        "    w.grad.zero_()\n",
        "    b.grad.zero_()"
      ],
      "metadata": {
        "id": "73ijDlSqa3oH"
      },
      "execution_count": null,
      "outputs": []
    },
    {
      "cell_type": "code",
      "source": [
        "print(w)"
      ],
      "metadata": {
        "colab": {
          "base_uri": "https://localhost:8080/"
        },
        "id": "kWKlOfBHa7I_",
        "outputId": "d93d5ad5-f41c-4c5a-8a3d-2b4ef85c00be"
      },
      "execution_count": null,
      "outputs": [
        {
          "output_type": "stream",
          "name": "stdout",
          "text": [
            "tensor([[ 0.5663, -0.0797,  0.8203],\n",
            "        [-0.8827,  0.1315,  0.8235]], requires_grad=True)\n"
          ]
        }
      ]
    },
    {
      "cell_type": "code",
      "source": [
        "p = model(inputs)\n",
        "loss = mse(p, targets)\n",
        "print(loss)"
      ],
      "metadata": {
        "colab": {
          "base_uri": "https://localhost:8080/"
        },
        "id": "OWdIYxbFbCCn",
        "outputId": "08063ae2-7e9d-4bc9-98d8-5e64dca13ae9"
      },
      "execution_count": null,
      "outputs": [
        {
          "output_type": "stream",
          "name": "stdout",
          "text": [
            "tensor(614.0858, grad_fn=<DivBackward0>)\n"
          ]
        }
      ]
    },
    {
      "cell_type": "code",
      "source": [
        "for i in range(10):\n",
        "    p = model(inputs)\n",
        "    loss = mse(p, targets)\n",
        "    loss.backward()\n",
        "    with torch.no_grad():\n",
        "        w -= w.grad * 1e-5\n",
        "        b -= b.grad * 1e-5\n",
        "        w.grad.zero_()\n",
        "        b.grad.zero_()\n"
      ],
      "metadata": {
        "id": "ipcQU8m5b6Oi"
      },
      "execution_count": null,
      "outputs": []
    },
    {
      "cell_type": "code",
      "source": [
        "p = model(inputs)\n",
        "loss = mse(p, targets)\n",
        "print(loss)\n",
        "print(p)"
      ],
      "metadata": {
        "colab": {
          "base_uri": "https://localhost:8080/"
        },
        "id": "iXaNn09KcDJk",
        "outputId": "98a736e4-f88b-4590-fcce-d6ab96b310e6"
      },
      "execution_count": null,
      "outputs": [
        {
          "output_type": "stream",
          "name": "stdout",
          "text": [
            "tensor(437.6913, grad_fn=<DivBackward0>)\n",
            "tensor([[ 66.1129,  68.4817],\n",
            "        [ 91.0447, 100.2835],\n",
            "        [ 84.6158, 126.1048],\n",
            "        [ 73.5700,  34.3923],\n",
            "        [ 86.5286, 120.8820]], grad_fn=<AddBackward0>)\n"
          ]
        }
      ]
    }
  ]
}